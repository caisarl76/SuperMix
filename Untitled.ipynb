{
 "cells": [
  {
   "cell_type": "code",
   "execution_count": 2,
   "id": "classical-sheep",
   "metadata": {},
   "outputs": [],
   "source": [
    "import torch\n",
    "import numpy as np\n",
    "import random\n",
    "import matplotlib.pyplot as plt\n",
    "from numpy.random import choice"
   ]
  },
  {
   "cell_type": "code",
   "execution_count": null,
   "id": "through-temple",
   "metadata": {},
   "outputs": [],
   "source": []
  },
  {
   "cell_type": "code",
   "execution_count": 32,
   "id": "fifteen-hypothetical",
   "metadata": {},
   "outputs": [
    {
     "name": "stdout",
     "output_type": "stream",
     "text": [
      "[1 2 3 4 5 6 7 8 9]\n"
     ]
    }
   ],
   "source": [
    "cls_num_list = np.array(range(1, 10))\n",
    "print(cls_num_list)"
   ]
  },
  {
   "cell_type": "code",
   "execution_count": 33,
   "id": "southern-greek",
   "metadata": {
    "scrolled": true
   },
   "outputs": [
    {
     "name": "stdout",
     "output_type": "stream",
     "text": [
      "[34.96287633 17.56928459 11.77161588  8.87292793  7.13383226  5.97453274\n",
      "  5.14654528  4.52562786  4.04275712]\n"
     ]
    }
   ],
   "source": [
    "beta = 0.99\n",
    "effective_num = 1.0 - np.power(beta, cls_num_list)\n",
    "weights = (1.0 - beta) / np.array(effective_num)\n",
    "weights = weights / np.sum(weights) * 100\n",
    "print(weights)"
   ]
  },
  {
   "cell_type": "code",
   "execution_count": 34,
   "id": "announced-powder",
   "metadata": {},
   "outputs": [
    {
     "name": "stdout",
     "output_type": "stream",
     "text": [
      "[2 6 2 4 8 5 5 6 5 9 8 5 1 5 8 9 1 8 6 1]\n",
      "(20, 3, 40, 40)\n"
     ]
    }
   ],
   "source": [
    "labels = np.random.randint(1, 10, 20, dtype=int)\n",
    "images = np.zeros([20, 3, 40, 40])\n",
    "print(labels)\n",
    "print(images.shape)"
   ]
  },
  {
   "cell_type": "code",
   "execution_count": 28,
   "id": "executive-mailman",
   "metadata": {},
   "outputs": [
    {
     "name": "stdout",
     "output_type": "stream",
     "text": [
      "20\n",
      "[0.14528791 0.04891684 0.02138642 0.02964457 0.03687137 0.01679964\n",
      " 0.02964457 0.0188062  0.04891684 0.04891684 0.14528791 0.073009\n",
      " 0.073009   0.02138642 0.073009   0.02482712 0.073009   0.01679964\n",
      " 0.02964457 0.02482712]\n"
     ]
    }
   ],
   "source": [
    "prob_dist = [weights[i-1] for i in labels]\n",
    "print(len(prob_dist))\n",
    "prob_dist = prob_dist / np.sum(prob_dist)\n",
    "print(prob_dist)"
   ]
  },
  {
   "cell_type": "code",
   "execution_count": 29,
   "id": "infrared-sacramento",
   "metadata": {},
   "outputs": [
    {
     "name": "stdout",
     "output_type": "stream",
     "text": [
      "(20,) (20,)\n"
     ]
    }
   ],
   "source": [
    "print(labels.shape, prob_dist.shape)"
   ]
  },
  {
   "cell_type": "code",
   "execution_count": 37,
   "id": "marine-lithuania",
   "metadata": {},
   "outputs": [],
   "source": [
    "draw = choice(np.array(range(len(labels))), len(labels), p=prob_dist)"
   ]
  },
  {
   "cell_type": "code",
   "execution_count": 38,
   "id": "educational-stone",
   "metadata": {},
   "outputs": [
    {
     "name": "stdout",
     "output_type": "stream",
     "text": [
      "[18 11 19  0 10  0  0 16 12 14 10  0 14 12 16 12 14 19  8 11]\n"
     ]
    }
   ],
   "source": [
    "print(draw)"
   ]
  },
  {
   "cell_type": "code",
   "execution_count": 39,
   "id": "ceramic-sender",
   "metadata": {},
   "outputs": [
    {
     "name": "stdout",
     "output_type": "stream",
     "text": [
      "[0 1]\n"
     ]
    }
   ],
   "source": [
    "print(np.array(range(2)))"
   ]
  },
  {
   "cell_type": "code",
   "execution_count": 43,
   "id": "uniform-analysis",
   "metadata": {},
   "outputs": [
    {
     "name": "stdout",
     "output_type": "stream",
     "text": [
      "[[0, 1, 2, 3, 4, 5, 6, 7, 8, 9, 10, 11, 12, 13, 14, 15, 16, 17, 18, 19]]\n"
     ]
    }
   ],
   "source": [
    "idx = list(range(20))\n",
    "idx_arr = [idx]\n",
    "print(idx_arr)"
   ]
  },
  {
   "cell_type": "code",
   "execution_count": 44,
   "id": "confident-variety",
   "metadata": {},
   "outputs": [
    {
     "name": "stdout",
     "output_type": "stream",
     "text": [
      "[[0, 1, 2, 3, 4, 5, 6, 7, 8, 9, 10, 11, 12, 13, 14, 15, 16, 17, 18, 19], [1, 2, 3, 4, 5, 6, 7, 8, 9, 10, 11, 12, 13, 14, 15, 16, 17, 18, 19, 19]]\n"
     ]
    }
   ],
   "source": [
    "for i in range(1):\n",
    "    idx = idx_arr[-1].copy()\n",
    "    idx[:-1] = idx_arr[-1][1:]\n",
    "    idx_arr.append(idx)\n",
    "print(idx_arr)"
   ]
  },
  {
   "cell_type": "code",
   "execution_count": 45,
   "id": "imperial-vegetation",
   "metadata": {},
   "outputs": [],
   "source": [
    "idx_arr.append(draw)"
   ]
  },
  {
   "cell_type": "code",
   "execution_count": 46,
   "id": "capable-edmonton",
   "metadata": {},
   "outputs": [
    {
     "name": "stdout",
     "output_type": "stream",
     "text": [
      "[[0, 1, 2, 3, 4, 5, 6, 7, 8, 9, 10, 11, 12, 13, 14, 15, 16, 17, 18, 19], [1, 2, 3, 4, 5, 6, 7, 8, 9, 10, 11, 12, 13, 14, 15, 16, 17, 18, 19, 19], array([18, 11, 19,  0, 10,  0,  0, 16, 12, 14, 10,  0, 14, 12, 16, 12, 14,\n",
      "       19,  8, 11])]\n"
     ]
    }
   ],
   "source": [
    "print(idx_arr)"
   ]
  },
  {
   "cell_type": "code",
   "execution_count": 47,
   "id": "anonymous-danger",
   "metadata": {},
   "outputs": [],
   "source": [
    "idx_arr = np.array(idx_arr)"
   ]
  },
  {
   "cell_type": "code",
   "execution_count": 48,
   "id": "alike-congress",
   "metadata": {},
   "outputs": [
    {
     "name": "stdout",
     "output_type": "stream",
     "text": [
      "[[ 0  1  2  3  4  5  6  7  8  9 10 11 12 13 14 15 16 17 18 19]\n",
      " [ 1  2  3  4  5  6  7  8  9 10 11 12 13 14 15 16 17 18 19 19]\n",
      " [18 11 19  0 10  0  0 16 12 14 10  0 14 12 16 12 14 19  8 11]]\n"
     ]
    }
   ],
   "source": [
    "print(idx_arr)"
   ]
  },
  {
   "cell_type": "code",
   "execution_count": null,
   "id": "acquired-converter",
   "metadata": {},
   "outputs": [],
   "source": []
  }
 ],
 "metadata": {
  "kernelspec": {
   "display_name": "Python 3",
   "language": "python",
   "name": "python3"
  },
  "language_info": {
   "codemirror_mode": {
    "name": "ipython",
    "version": 3
   },
   "file_extension": ".py",
   "mimetype": "text/x-python",
   "name": "python",
   "nbconvert_exporter": "python",
   "pygments_lexer": "ipython3",
   "version": "3.6.9"
  }
 },
 "nbformat": 4,
 "nbformat_minor": 5
}
